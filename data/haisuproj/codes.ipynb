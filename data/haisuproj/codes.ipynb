{
 "cells": [
  {
   "cell_type": "code",
   "execution_count": 13,
   "metadata": {},
   "outputs": [],
   "source": [
    "import yaml\n",
    "import pandas as pd\n",
    "import numpy as np\n",
    "import textwrap\n",
    "import datetime\n",
    "\n",
    "#functions to add folded blocks and literal blocks;\n",
    "class folded_str(str): pass\n",
    "class literal_str(str): pass\n",
    "\n",
    "def folded_str_representer(dumper, data):\n",
    "    return dumper.represent_scalar(u'tag:yaml.org,2002:str', data, style='>')\n",
    "def literal_str_representer(dumper, data):\n",
    "    return dumper.represent_scalar(u'tag:yaml.org,2002:str', data, style='|')\n",
    "\n",
    "yaml.add_representer(folded_str, folded_str_representer)\n",
    "yaml.add_representer(literal_str, literal_str_representer)"
   ]
  },
  {
   "cell_type": "code",
   "execution_count": 2,
   "metadata": {},
   "outputs": [
    {
     "data": {
      "text/plain": [
       "['id',\n",
       " 'household_id',\n",
       " 'age_group',\n",
       " 'gender',\n",
       " 'fever',\n",
       " 'fever_temperature',\n",
       " 'cough',\n",
       " 'sore_throat',\n",
       " 'malaise',\n",
       " 'headache',\n",
       " 'diarrhea',\n",
       " 'conjunctivitis',\n",
       " 'other_symptoms',\n",
       " 'symptomatic_at_first_sampling',\n",
       " 'symptomatic_at_follow_up',\n",
       " 'symptomatic_at_any_time',\n",
       " 'UQfjwKik',\n",
       " 'NbpzoveL',\n",
       " 'nHaRFVRQ',\n",
       " 'MnsDbjah',\n",
       " 'FIcBSxhc',\n",
       " 'EGaZNSCz',\n",
       " '235e5b92',\n",
       " '9bcdddd9',\n",
       " 'yFQHmYFr',\n",
       " 'pttlyaZc',\n",
       " 'gGfbtmTp',\n",
       " 'ePtaMowv',\n",
       " 'aqEhvoyA',\n",
       " 'OxWNSuPL',\n",
       " 'YETUlovd',\n",
       " 'XspMWvwA',\n",
       " 'IrrnCJVN',\n",
       " 'PuxbIAJT',\n",
       " 'LytMaZkB',\n",
       " 'YzXbrhuJ',\n",
       " 'wNHAlivi',\n",
       " 'ZbLlNtJS',\n",
       " 'sWQDmOzv',\n",
       " 'VxNbaSiK',\n",
       " 'IiZhozSd',\n",
       " 'zbzdjmyX',\n",
       " 'LubQgHxN',\n",
       " 'CuglAHUl',\n",
       " 'MZTwbQOo',\n",
       " 'gEcKwzyS',\n",
       " 'e025f868',\n",
       " 'FuOFAEpd',\n",
       " 'shRGqSZM',\n",
       " 'tJnlxclU',\n",
       " 'KapcIeXT',\n",
       " 'a7b95c7b',\n",
       " 'c87c1e33',\n",
       " 'VJFQDAXb',\n",
       " 'b70b820d',\n",
       " 'GKihAIEr',\n",
       " 'AhRVXqSs',\n",
       " 'BrVjJNle',\n",
       " 'vEcBLTqg',\n",
       " 'nbcshCCy',\n",
       " 'KBRZfbyr',\n",
       " 'CPahVtES',\n",
       " 'eoaetuws',\n",
       " '7453f18e',\n",
       " 'QevmmhHZ',\n",
       " 'UvYhtpxx',\n",
       " 'VtxKAKHP',\n",
       " 'lBCVqemS',\n",
       " 'f97e4432',\n",
       " 'WjIvgLpY',\n",
       " 'YvjYhBSZ',\n",
       " 'SLJwyWen',\n",
       " 'a85b1f6a',\n",
       " 'zAZWTmOi',\n",
       " 'ooHafaUW',\n",
       " 'gLveIjFb',\n",
       " '5592539e',\n",
       " 'fa76c0ee',\n",
       " 'DpCgSMSt',\n",
       " 'hswRareX',\n",
       " 'ChOlOFXm',\n",
       " '114eaccc',\n",
       " 'FxZZNlJK',\n",
       " 'uhaqSrJj',\n",
       " 'VLRIycjD',\n",
       " 'kBnjzTDk',\n",
       " 'skYKdIJN',\n",
       " 'uzaItlSW',\n",
       " 'AGFBxVLA',\n",
       " 'kxWHqpvk',\n",
       " 'VJVrcuFp',\n",
       " 'JIIoYHyp',\n",
       " '027c2946',\n",
       " 'oItKJIdl',\n",
       " 'iBSSsRbf',\n",
       " 'WDmgERJE',\n",
       " 'hZkPyObE',\n",
       " 'iJJGIsWt',\n",
       " 'fTgtxGXW',\n",
       " 'afd714f0',\n",
       " 'ofRHcMpM',\n",
       " '107230fa',\n",
       " '1fe67806',\n",
       " 'OAWeibNq',\n",
       " '0db03881_place',\n",
       " '297bbbdc_place',\n",
       " 'db2cfcea_place',\n",
       " datetime.datetime(2020, 2, 21, 0, 0),\n",
       " datetime.datetime(2020, 2, 22, 0, 0),\n",
       " datetime.datetime(2020, 2, 23, 0, 0),\n",
       " datetime.datetime(2020, 2, 24, 0, 0),\n",
       " datetime.datetime(2020, 2, 25, 0, 0),\n",
       " datetime.datetime(2020, 2, 26, 0, 0),\n",
       " datetime.datetime(2020, 2, 27, 0, 0),\n",
       " datetime.datetime(2020, 2, 28, 0, 0),\n",
       " datetime.datetime(2020, 2, 29, 0, 0),\n",
       " datetime.datetime(2020, 3, 1, 0, 0),\n",
       " datetime.datetime(2020, 3, 2, 0, 0),\n",
       " datetime.datetime(2020, 3, 3, 0, 0),\n",
       " datetime.datetime(2020, 3, 4, 0, 0),\n",
       " datetime.datetime(2020, 3, 5, 0, 0),\n",
       " datetime.datetime(2020, 3, 6, 0, 0),\n",
       " datetime.datetime(2020, 3, 7, 0, 0),\n",
       " datetime.datetime(2020, 3, 8, 0, 0),\n",
       " datetime.datetime(2020, 3, 9, 0, 0),\n",
       " datetime.datetime(2020, 3, 10, 0, 0),\n",
       " 'first_sampling',\n",
       " 'second_sampling',\n",
       " 'positive',\n",
       " 'hospitalized',\n",
       " 'deceased',\n",
       " 'first_symptoms_date',\n",
       " 'clinical_condition_at_hospitalization',\n",
       " 'first_hospitalization_date',\n",
       " 'discharge_date',\n",
       " 'death_date']"
      ]
     },
     "execution_count": 2,
     "metadata": {},
     "output_type": "execute_result"
    }
   ],
   "source": [
    "#Read Excel file into the environment\n",
    "df_demo = pd.read_excel('anonymised_data_public_final.xlsx', sheet_name='anonymised_dataset')\n",
    "df_pcr = pd.read_excel('anonymised_data_public_final.xlsx', sheet_name='RT_PCR_DATA')\n",
    "list(df_demo.columns)\n"
   ]
  },
  {
   "cell_type": "code",
   "execution_count": 3,
   "metadata": {},
   "outputs": [
    {
     "data": {
      "text/html": [
       "<div>\n",
       "<style scoped>\n",
       "    .dataframe tbody tr th:only-of-type {\n",
       "        vertical-align: middle;\n",
       "    }\n",
       "\n",
       "    .dataframe tbody tr th {\n",
       "        vertical-align: top;\n",
       "    }\n",
       "\n",
       "    .dataframe thead th {\n",
       "        text-align: right;\n",
       "    }\n",
       "</style>\n",
       "<table border=\"1\" class=\"dataframe\">\n",
       "  <thead>\n",
       "    <tr style=\"text-align: right;\">\n",
       "      <th></th>\n",
       "      <th>first_symptoms_date</th>\n",
       "    </tr>\n",
       "  </thead>\n",
       "  <tbody>\n",
       "    <tr>\n",
       "      <th>count</th>\n",
       "      <td>66</td>\n",
       "    </tr>\n",
       "    <tr>\n",
       "      <th>mean</th>\n",
       "      <td>2020-02-18 18:10:54.545454592</td>\n",
       "    </tr>\n",
       "    <tr>\n",
       "      <th>min</th>\n",
       "      <td>2019-12-23 00:00:00</td>\n",
       "    </tr>\n",
       "    <tr>\n",
       "      <th>25%</th>\n",
       "      <td>2020-02-18 00:00:00</td>\n",
       "    </tr>\n",
       "    <tr>\n",
       "      <th>50%</th>\n",
       "      <td>2020-02-22 00:00:00</td>\n",
       "    </tr>\n",
       "    <tr>\n",
       "      <th>75%</th>\n",
       "      <td>2020-02-23 18:00:00</td>\n",
       "    </tr>\n",
       "    <tr>\n",
       "      <th>max</th>\n",
       "      <td>2020-03-10 00:00:00</td>\n",
       "    </tr>\n",
       "  </tbody>\n",
       "</table>\n",
       "</div>"
      ],
      "text/plain": [
       "                 first_symptoms_date\n",
       "count                             66\n",
       "mean   2020-02-18 18:10:54.545454592\n",
       "min              2019-12-23 00:00:00\n",
       "25%              2020-02-18 00:00:00\n",
       "50%              2020-02-22 00:00:00\n",
       "75%              2020-02-23 18:00:00\n",
       "max              2020-03-10 00:00:00"
      ]
     },
     "execution_count": 3,
     "metadata": {},
     "output_type": "execute_result"
    }
   ],
   "source": [
    "# Filter the useful columns in df_demo\n",
    "df_demo2 = df_demo.loc[:,'id':'gender'].join(df_demo['first_symptoms_date'])\n",
    "df_demo2.describe()"
   ]
  },
  {
   "cell_type": "code",
   "execution_count": 19,
   "metadata": {},
   "outputs": [
    {
     "name": "stdout",
     "output_type": "stream",
     "text": [
      "count       3\n",
      "unique      2\n",
      "top       Pos\n",
      "freq        2\n",
      "Name: 2020-02-21 00:00:00, dtype: object\n",
      "2020-02-21 00:00:00\n",
      "Pos    2\n",
      "Neg    1\n",
      "Name: count, dtype: int64\n",
      "first_symptoms_date\n",
      "2020-02-23    12\n",
      "2020-02-24     6\n",
      "2020-02-25     5\n",
      "2020-02-22     5\n",
      "2020-02-21     5\n",
      "2020-02-18     4\n",
      "2020-02-19     4\n",
      "2020-02-20     3\n",
      "2020-02-09     2\n",
      "2020-02-26     2\n",
      "2020-02-10     2\n",
      "2020-02-11     2\n",
      "2020-02-13     2\n",
      "2020-02-17     2\n",
      "2020-02-14     1\n",
      "2020-02-12     1\n",
      "2020-02-28     1\n",
      "2020-03-03     1\n",
      "2019-12-31     1\n",
      "2020-02-15     1\n",
      "2020-02-27     1\n",
      "2020-03-10     1\n",
      "2019-12-23     1\n",
      "2020-02-01     1\n",
      "Name: count, dtype: int64\n",
      "first_symptoms_date\n",
      "True     2834\n",
      "False      66\n",
      "Name: count, dtype: int64\n"
     ]
    }
   ],
   "source": [
    "# print(df_demo[datetime.datetime(2020, 2, 21, 0, 0)].describe())\n",
    "# print(df_demo[datetime.datetime(2020, 2, 21, 0, 0)].value_counts())\n",
    "# print(df_demo['first_symptoms_date'].value_counts())\n",
    "# print(df_demo['first_symptoms_date'].isna().value_counts())"
   ]
  },
  {
   "cell_type": "code",
   "execution_count": 4,
   "metadata": {},
   "outputs": [
    {
     "data": {
      "text/plain": [
       "['id',\n",
       " 'RT_PCR_Ct_First_survey_RdRp',\n",
       " 'RT_PCR_Genome_Equivalents_First_survey_RdRp',\n",
       " 'RT_PCR_Ct_First_survey_E',\n",
       " 'RT_PCR_Genome_Equivalents_First_survey_E',\n",
       " 'RT_PCR_Ct_First_survey_bis_RdRp',\n",
       " 'RT_PCR_Genome_Equivalents_First_survey_bis_RdRp',\n",
       " 'RT_PCR_Ct_First_survey_bis_E',\n",
       " 'RT_PCR_Genome_Equivalents_First_survey_bis_E',\n",
       " 'RT_PCR_Ct_Second_survey_RdRp',\n",
       " 'RT_PCR_Genome_Equivalents_Second_survey_RdRp',\n",
       " 'RT_PCR_Ct_Second_survey_E',\n",
       " 'RT_PCR_Genome_Equivalents_Second_survey_E',\n",
       " 'RT_PCR_Ct_Second_survey_bis_RdRp',\n",
       " 'RT_PCR_Genome_Equivalents_Second_survey_bis_RdRp',\n",
       " 'RT_PCR_Ct_Second_survey_bis_E',\n",
       " 'RT_PCR_Genome_Equivalents_Second_survey_bis_E',\n",
       " 'symptomatic_at_first_sampling',\n",
       " 'symptomatic_at_follow_up',\n",
       " 'asymptomatic_never_showing_any_symptoms ']"
      ]
     },
     "execution_count": 4,
     "metadata": {},
     "output_type": "execute_result"
    }
   ],
   "source": [
    "list(df_pcr.columns)"
   ]
  },
  {
   "cell_type": "code",
   "execution_count": 5,
   "metadata": {},
   "outputs": [],
   "source": [
    "\n",
    "df_test = df_demo.loc[:,datetime.datetime(2020, 2, 21, 0, 0):datetime.datetime(2020, 3, 10, 0, 0)].join(df_demo['id'])\n",
    "df_test = pd.melt(df_test,id_vars=['id'],var_name = 'test_date',value_name = 'results')\n",
    "df_test = df_test[~df_test['results'].isnull()]\n",
    "# df_test['results'].value_counts()\n"
   ]
  },
  {
   "cell_type": "code",
   "execution_count": 6,
   "metadata": {},
   "outputs": [],
   "source": [
    "#Filter and rename the columns in df_pcr\n",
    "df_pcr2 = df_pcr.loc[:,[ 'id','RT_PCR_Genome_Equivalents_First_survey_RdRp','RT_PCR_Genome_Equivalents_First_survey_E',\n",
    "                        'RT_PCR_Genome_Equivalents_Second_survey_RdRp','RT_PCR_Genome_Equivalents_Second_survey_E',\n",
    "                        'symptomatic_at_first_sampling','symptomatic_at_follow_up',]]\n",
    "df_pcr2.columns = ['id','RdRp_1','E_1','RdRp_2','E_2','symptom_1','symptom_2']"
   ]
  },
  {
   "cell_type": "code",
   "execution_count": 7,
   "metadata": {},
   "outputs": [
    {
     "data": {
      "text/plain": [
       "['id',\n",
       " 'RdRp_1',\n",
       " 'E_1',\n",
       " 'RdRp_2',\n",
       " 'E_2',\n",
       " 'symptom_1',\n",
       " 'symptom_2',\n",
       " 'household_id',\n",
       " 'age_group',\n",
       " 'gender',\n",
       " 'first_symptoms_date']"
      ]
     },
     "execution_count": 7,
     "metadata": {},
     "output_type": "execute_result"
    }
   ],
   "source": [
    "#Join pcr data with the demographic data\n",
    "df = df_pcr2.merge(df_demo2,how = 'left',on = 'id')\n",
    "list(df.columns)"
   ]
  },
  {
   "cell_type": "markdown",
   "metadata": {},
   "source": [
    "The first survey occurred between 21 and 29 February 2020 and the\n",
    "second survey occurred on 7 March 2020. In the model, we assumed\n",
    "that prevalence was taken on the weighted average of the first sample\n",
    "collection date, that is, on 26 February 2020 and on 7 March 2020."
   ]
  },
  {
   "cell_type": "code",
   "execution_count": 8,
   "metadata": {},
   "outputs": [
    {
     "name": "stdout",
     "output_type": "stream",
     "text": [
      "age_group\n",
      "71-80    20\n",
      "51-60    18\n",
      "61-70    17\n",
      "31-40     7\n",
      "41-50     6\n",
      "11-20     4\n",
      "81-90     4\n",
      "21-30     4\n",
      "Name: count, dtype: int64\n",
      "age_group\n",
      "75    20\n",
      "55    18\n",
      "65    17\n",
      "35     7\n",
      "45     6\n",
      "15     4\n",
      "85     4\n",
      "25     4\n",
      "Name: count, dtype: int64\n"
     ]
    }
   ],
   "source": [
    "print(df['age_group'].value_counts())\n",
    "#Use the middle value of each age group\n",
    "df['age_group'] = df['age_group'].str[0:2]\n",
    "df['age_group'] = pd.to_numeric(df['age_group'])+4\n",
    "print(df['age_group'].value_counts())\n"
   ]
  },
  {
   "cell_type": "code",
   "execution_count": 9,
   "metadata": {},
   "outputs": [
    {
     "name": "stdout",
     "output_type": "stream",
     "text": [
      "gender\n",
      "M    47\n",
      "F    33\n",
      "Name: count, dtype: int64\n",
      "gender\n",
      "male      47\n",
      "female    33\n",
      "Name: count, dtype: int64\n"
     ]
    }
   ],
   "source": [
    "print(df['gender'].value_counts())\n",
    "df['gender'] = df['gender'].replace({'M':'male','F':'female'})\n",
    "print(df['gender'].value_counts())\n"
   ]
  },
  {
   "cell_type": "code",
   "execution_count": 10,
   "metadata": {},
   "outputs": [
    {
     "name": "stdout",
     "output_type": "stream",
     "text": [
      "id\n",
      "False    80\n",
      "Name: count, dtype: int64\n"
     ]
    }
   ],
   "source": [
    "# participants = {}\n",
    "# for i in range(0,df['id'].shape[0]):df\n",
    "#     participants[i] = 1\n",
    "print(df['id'].duplicated().value_counts()) #No Duplicate entries\n",
    "\n",
    "#Reshape the dataframe.\n",
    "df = pd.wide_to_long(df, \n",
    "                          stubnames=['RdRp', 'E', 'symptom'], \n",
    "                          i=['id','age_group','gender','first_symptoms_date'], \n",
    "                          j='Round', \n",
    "                          sep='_', \n",
    "                          suffix='(1|2)')\n",
    "df = df.reset_index()"
   ]
  },
  {
   "cell_type": "code",
   "execution_count": 36,
   "metadata": {},
   "outputs": [],
   "source": [
    "# df_test = df_test[df_test['id'].isin(df['id'])]"
   ]
  },
  {
   "cell_type": "code",
   "execution_count": 16,
   "metadata": {},
   "outputs": [
    {
     "name": "stdout",
     "output_type": "stream",
     "text": [
      "{'attributes': {'age': 65, 'sex': 'male'}, 'measurements': [{'analyte': 'RdRp', 'time': 1, 'value': 116.8530752}, {'analyte': 'RdRp', 'time': 2, 'value': nan}, {'analyte': 'E', 'time': 1, 'value': 2806.098051}, {'analyte': 'E', 'time': 2, 'value': nan}, {'analyte': 'symptom', 'time': 1, 'value': 'no'}, {'analyte': 'symptom', 'time': 2, 'value': 'no'}]}\n"
     ]
    }
   ],
   "source": [
    "participant_list = [dict(attributes=dict(age=df.loc[df.loc[df[\"id\"]==i].index[0],'age_group'].astype('object'),\n",
    "                                         sex=df.loc[df.loc[df[\"id\"]==i].index[0],'gender']),\n",
    "                         measurements=[dict(analyte=\"RdRp\",\n",
    "                                             time=int(df.loc[(df['Round'] == j) & (df['id'] == i),\"Round\"].item()),\n",
    "                                             value=df.loc[(df['Round'] == j) & (df['id'] == i),\"RdRp\"].item()) for j in range(1,3)] +\n",
    "                                       [dict(analyte=\"E\",\n",
    "                                             time=int(df.loc[(df['Round'] == j) & (df['id'] == i),\"Round\"].item()),\n",
    "                                             value=df.loc[(df['Round'] == j) & (df['id'] == i),\"E\"].item()) for j in range(1,3)] +\n",
    "                                       [dict(analyte=\"symptom\",\n",
    "                                             time=int(df.loc[(df['Round'] == j) & (df['id'] == i),\"Round\"].item()),\n",
    "                                             value=df.loc[(df['Round'] == j) & (df['id'] == i),\"symptom\"].item()) for j in range(1,3)]) for i in df['id']]\n",
    "\n",
    "print(participant_list[1])"
   ]
  },
  {
   "cell_type": "code",
   "execution_count": 17,
   "metadata": {},
   "outputs": [],
   "source": [
    "haisuproj = dict(title=\"Suppression of a SARS-CoV-2 outbreak in the Italian municipality of Vo’\",\n",
    "               doi=\"10.1038/s41586-020-2488-1\",\n",
    "               description=folded_str('This study was conducted in the Italian municipality of Vo. Lockdown was implemented after first death of pneumonia was reported. Two surveys and virus tests were conducted with the first survey near the start of lockdown and the second one at the end of lockdown\\n'),\n",
    "               analytes=dict(RdRp_gene=dict(description=folded_str(\"SARS-CoV-2 RNA genome copy concentration calculated from evaluation of RdRp gene.\\n\"),\n",
    "                                                    specimen=\"Oropharynx and nasal mid-turbinates swab\",\n",
    "                                                    biomarker=\"SARS-CoV-2\",\n",
    "                                                    gene_target=\"RdRp\",\n",
    "                                                    limit_of_quantification=\"unknown\",\n",
    "                                                    limit_of_detection=\"unknown\",\n",
    "                                                    unit=\"gc/ml\",\n",
    "                                                    reference_event=\"Survey\"),\n",
    "                             E_gene=dict(description=folded_str(\"SARS-CoV-2 RNA genome copy concentration calculated from evaluation of RdRp gene.\\n\"),\n",
    "                                              specimen=\"Oropharynx and nasal mid-turbinates swab\",\n",
    "                                              biomarker=\"SARS-CoV-2\",\n",
    "                                              gene_target=\"E\",\n",
    "                                              limit_of_quantification=\"unknown\",\n",
    "                                              limit_of_detection=\"unknown\",\n",
    "                                              unit=\"gc/ml\",\n",
    "                                              reference_event=\"Survey\"),\n",
    "                             symptom=dict(description=folded_str(\"Symptom or not.\\n\"),\n",
    "                                              specimen=\"unknown\",\n",
    "                                              biomarker=\"unknown\",\n",
    "                                              limit_of_quantification=\"unknown\",\n",
    "                                              limit_of_detection=\"unknown\",\n",
    "                                              unit=\"NA\",\n",
    "                                              reference_event=\"survey\")),\n",
    "               participants=participant_list)\n"
   ]
  },
  {
   "cell_type": "code",
   "execution_count": 18,
   "metadata": {},
   "outputs": [],
   "source": [
    "with open(\"haisuproj.yaml\",\"w\") as outfile:\n",
    "    outfile.write(\"# yaml-language-server: $schema=../.schema.yaml\\n\")\n",
    "    yaml.dump(haisuproj, outfile, default_style=None, default_flow_style=False, sort_keys=False)\n",
    "outfile.close()"
   ]
  },
  {
   "cell_type": "code",
   "execution_count": 79,
   "metadata": {},
   "outputs": [
    {
     "name": "stdout",
     "output_type": "stream",
     "text": [
      "   index        id  age_group  gender first_symptoms_date  Round household_id  \\\n",
      "2      2  ooHafaUW         15  female                 NaT      1     3d4557d8   \n",
      "3      3  ooHafaUW         15  female                 NaT      2     3d4557d8   \n",
      "\n",
      "        RdRp           E symptom  \n",
      "2  12.222558  320.400734      no  \n",
      "3        NaN         NaN      no  \n",
      "Index([2, 3], dtype='int64')\n",
      "range(1, 3)\n",
      "1\n"
     ]
    }
   ],
   "source": [
    "i = pd.unique(df[\"id\"])[1]\n",
    "print(df.loc[df[\"id\"]==i])\n",
    "# df.loc[df.loc[df[\"id\"]==i].index[0],\"age_group\"]\n",
    "print(df.loc[df[\"id\"]==i].index)\n",
    "print(range(1,3))\n",
    "j=1\n",
    "# print(df[(df['Round'] == j) & (df['id'] == i)])\n",
    "# m = df[(df['Round']==j) and (df['id'] == i)]\n",
    "print(df[(df['Round']==j) & (df['id'] == i)].loc[:,\"Round\"].item())\n",
    "# print(m)"
   ]
  },
  {
   "cell_type": "code",
   "execution_count": 68,
   "metadata": {},
   "outputs": [
    {
     "name": "stdout",
     "output_type": "stream",
     "text": [
      "    name  age  income\n",
      "1    Bob   35   50000\n",
      "3  David   40   70000\n"
     ]
    }
   ],
   "source": [
    "data = {\n",
    "    'name': ['Alice', 'Bob', 'Charlie', 'David'],\n",
    "    'age': [23, 35, 25, 40],\n",
    "    'income': [60000, 50000, 40000, 70000]\n",
    "}\n",
    "\n",
    "df1 = pd.DataFrame(data)\n",
    "\n",
    "# Filter rows where age > 25 AND income > 50000\n",
    "filtered_df = df1[(df1['age'] > 24) & (df1['income'] > 40000)]\n",
    "\n",
    "print(filtered_df)"
   ]
  }
 ],
 "metadata": {
  "kernelspec": {
   "display_name": "python_env",
   "language": "python",
   "name": "python3"
  },
  "language_info": {
   "codemirror_mode": {
    "name": "ipython",
    "version": 3
   },
   "file_extension": ".py",
   "mimetype": "text/x-python",
   "name": "python",
   "nbconvert_exporter": "python",
   "pygments_lexer": "ipython3",
   "version": "3.12.3"
  }
 },
 "nbformat": 4,
 "nbformat_minor": 2
}
